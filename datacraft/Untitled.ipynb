{
 "cells": [
  {
   "cell_type": "code",
   "execution_count": 1,
   "id": "71e2e8da",
   "metadata": {},
   "outputs": [],
   "source": [
    "import pandas as pd"
   ]
  },
  {
   "cell_type": "markdown",
   "id": "87dbe536",
   "metadata": {},
   "source": [
    "# Getting the data"
   ]
  },
  {
   "cell_type": "markdown",
   "id": "8e7500e1",
   "metadata": {},
   "source": [
    "# Each version of the dataset in the form of :\n",
    "\n",
    "$$Score_1 = \\begin{bmatrix} &  T_{1} & \\cdots & T_{|T|}\\\\\n",
    "S_1 & \\cdots & \\cdots & \\cdots \\\\\n",
    "S_2 & \\cdots &\\cdots & \\cdots \\\\\n",
    "\\cdots &\\cdots &\\cdots& \\cdots \\\\\n",
    "S_{|S|} & \\cdots& \\cdots& \\cdots  \\\\\n",
    "\\end{bmatrix}$$, \n",
    "\n",
    "where each score of the task is a column of the matrix"
   ]
  }
 ],
 "metadata": {
  "kernelspec": {
   "display_name": "Python 3 (ipykernel)",
   "language": "python",
   "name": "python3"
  },
  "language_info": {
   "codemirror_mode": {
    "name": "ipython",
    "version": 3
   },
   "file_extension": ".py",
   "mimetype": "text/x-python",
   "name": "python",
   "nbconvert_exporter": "python",
   "pygments_lexer": "ipython3",
   "version": "3.9.7"
  }
 },
 "nbformat": 4,
 "nbformat_minor": 5
}
